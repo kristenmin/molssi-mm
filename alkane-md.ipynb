{
 "cells": [
  {
   "cell_type": "markdown",
   "metadata": {},
   "source": [
    "# MD simulation of alkanes"
   ]
  },
  {
   "cell_type": "code",
   "execution_count": 1,
   "metadata": {},
   "outputs": [],
   "source": [
    "# imports\n",
    "from simtk.openmm import app\n",
    "import simtk.openmm as mm\n",
    "from simtk import unit\n",
    "import numpy as np\n",
    "import statsmodels.api as sm"
   ]
  },
  {
   "cell_type": "markdown",
   "metadata": {},
   "source": [
    "# **Ethane**"
   ]
  },
  {
   "cell_type": "markdown",
   "metadata": {},
   "source": [
    "## simulation initialization"
   ]
  },
  {
   "cell_type": "code",
   "execution_count": 2,
   "metadata": {},
   "outputs": [],
   "source": [
    "pdb = app.PDBFile('ethane.pdb') # read in the PDB file to get the initial coordinates\n",
    "forcefield = app.ForceField('ethane.gaff2.xml') # give OpenMM the force field file and add to pdb variable"
   ]
  },
  {
   "cell_type": "code",
   "execution_count": 3,
   "metadata": {},
   "outputs": [],
   "source": [
    "# set up the system for md simulation\n",
    "system = forcefield.createSystem(pdb.topology, nonbondedMethod=app.NoCutoff, constraints=app.HBonds)"
   ]
  },
  {
   "cell_type": "code",
   "execution_count": 4,
   "metadata": {},
   "outputs": [],
   "source": [
    "# Langevin integrator\n",
    "integrator = mm.LangevinIntegrator(298.15*unit.kelvin, 5.0/unit.picoseconds, 2.0*unit.femtoseconds)\n",
    "integrator.setConstraintTolerance(1e-5)"
   ]
  },
  {
   "cell_type": "code",
   "execution_count": 5,
   "metadata": {},
   "outputs": [],
   "source": [
    "platform = mm.Platform.getPlatformByName('Reference')\n",
    "simulation = app.Simulation(pdb.topology, system, integrator, platform)\n",
    "simulation.context.setPositions(pdb.positions)"
   ]
  },
  {
   "cell_type": "markdown",
   "metadata": {},
   "source": [
    "## energy minimization"
   ]
  },
  {
   "cell_type": "code",
   "execution_count": 6,
   "metadata": {},
   "outputs": [
    {
     "name": "stdout",
     "output_type": "stream",
     "text": [
      "Minimizing...\n",
      "Potential energy before minimization is 4.467818224810632 kJ/mol\n",
      "Potential energy after minimization is 4.389967678922688 kJ/mol\n"
     ]
    }
   ],
   "source": [
    "# energy minimization just moves the atoms of the molecule slightly to get to a local minimum in energy.\n",
    "\n",
    "print('Minimizing...')\n",
    "\n",
    "st = simulation.context.getState(getPositions=True,getEnergy=True)\n",
    "print(F\"Potential energy before minimization is {st.getPotentialEnergy()}\")\n",
    "\n",
    "simulation.minimizeEnergy(maxIterations=100) # 100 steps of energy min.\n",
    "\n",
    "st = simulation.context.getState(getPositions=True,getEnergy=True)\n",
    "print(F\"Potential energy after minimization is {st.getPotentialEnergy()}\")"
   ]
  },
  {
   "cell_type": "markdown",
   "metadata": {},
   "source": [
    "## Equilibration"
   ]
  },
  {
   "cell_type": "code",
   "execution_count": 7,
   "metadata": {},
   "outputs": [
    {
     "name": "stdout",
     "output_type": "stream",
     "text": [
      "Equilibrating...\n",
      "#\"Step\",\"Potential Energy (kJ/mole)\",\"Temperature (K)\"\n",
      "100,22.16423255065887,209.90258818605528\n",
      "200,18.08595496968016,369.2617923600696\n",
      "300,18.02410492467656,371.80708238971226\n",
      "400,18.29053060468184,289.9462641422384\n",
      "500,19.345077734083556,287.58265270381196\n",
      "600,14.581644358561444,151.41329549879114\n",
      "700,19.109788148235992,301.9491852475134\n",
      "800,12.268974325215492,296.7431564366051\n",
      "900,20.872438424376398,251.75302595040867\n",
      "1000,17.02978624311153,331.0021562686573\n",
      "1100,20.440799657291986,316.9922875549158\n",
      "1200,23.628192199682697,234.66828735560472\n",
      "1300,34.127649358694825,181.6303869050248\n",
      "1400,17.37149068380757,371.13223635973713\n",
      "1500,33.93401752822916,282.94912041184284\n",
      "1600,11.16328406963061,345.16203650858034\n",
      "1700,18.580168338275236,319.0661173897797\n",
      "1800,11.321302292567271,309.08555268897396\n",
      "1900,9.186946072641446,246.8771165525784\n",
      "2000,19.34856988868021,215.38986154919016\n",
      "2100,10.646566342350862,320.05976701388477\n",
      "2200,21.14974395943004,293.99556708664306\n",
      "2300,26.3532429287463,294.28430359324767\n",
      "2400,23.978771287620425,241.40943378118632\n",
      "2500,28.728557446510194,494.46192165828523\n"
     ]
    }
   ],
   "source": [
    "# equilibration is to get our system to our target temperature and to get the system equilibrated and ready for our production run.\n",
    "\n",
    "from sys import stdout # sets up what information OpenMM will report to us as the simulation runs.\n",
    "\n",
    "print('Equilibrating...')\n",
    "\n",
    "# asking for the potential energy, and temperature every 100 timesteps.\n",
    "\n",
    "simulation.reporters.append(app.StateDataReporter(stdout, 100, step=True, # stdout = just print the info.\n",
    "    potentialEnergy=True, temperature=True, separator=','))\n",
    "simulation.context.setVelocitiesToTemperature(150.0*unit.kelvin) # sets the initial velocities of the system to a temperature equivalent of 150 K.\n",
    "simulation.step(2500) # integrate for 2,500 steps to allow the system to equilibrate."
   ]
  },
  {
   "cell_type": "markdown",
   "metadata": {},
   "source": [
    "## production"
   ]
  },
  {
   "cell_type": "code",
   "execution_count": 8,
   "metadata": {},
   "outputs": [
    {
     "name": "stdout",
     "output_type": "stream",
     "text": [
      "Running Production...\n",
      "#\"Step\",\"Time (ps)\",\"Potential Energy (kJ/mole)\",\"Temperature (K)\",\"Speed (ns/day)\"\n",
      "250000,500.0000000016593,26.057198063688894,211.14165875957528,0\n",
      "500000,999.9999999901769,9.207478698847929,250.1132475188286,2.83e+04\n",
      "750000,1499.9999999783536,13.7017360497411,164.36365871642508,2.88e+04\n",
      "1000000,1999.9999999665301,20.961959993073094,188.35785612606293,2.85e+04\n",
      "1250000,2499.9999999547067,17.8116695257879,228.69063522457472,2.91e+04\n",
      "1500000,2999.9999999428833,12.912378647546062,184.31960711966144,2.94e+04\n",
      "1750000,3499.99999993106,25.691853751318295,316.2090109231881,2.98e+04\n",
      "2000000,3999.9999999192364,29.523497668761603,485.95741499237846,2.98e+04\n",
      "2250000,4499.9999999992715,22.47444965259233,412.9341752675589,2.99e+04\n",
      "2500000,5000.000000101135,19.5372733924846,257.29023347211785,3.01e+04\n",
      "2750000,5500.000000202998,21.374925249705246,237.30163783012358,2.98e+04\n",
      "3000000,6000.000000304862,18.959287528829307,422.2891085746099,2.97e+04\n",
      "3250000,6500.000000406725,14.407744690087373,249.40356299342778,2.98e+04\n",
      "3500000,7000.0000005085885,36.209991627670476,407.37001672731384,2.98e+04\n",
      "3750000,7500.000000610452,20.363309508237457,188.2268324343689,2.99e+04\n",
      "4000000,8000.000000712315,18.101701138427224,206.0961889196588,3e+04\n",
      "4250000,8500.000000814178,18.150769709374316,150.07020225171846,3e+04\n",
      "4500000,9000.000000916041,24.924907903984774,416.42652135148506,3.01e+04\n",
      "4750000,9500.000001017905,16.238626509919705,337.7825300668612,3.01e+04\n",
      "5000000,10000.000001119768,19.31415253416982,340.67844849235655,3.02e+04\n",
      "5250000,10500.000001221631,21.47395739488138,269.14595130522355,3.02e+04\n",
      "5500000,11000.000001323495,20.568179144899176,293.9890862670792,3.03e+04\n",
      "5750000,11500.000001425358,19.97469597955921,180.71684716732264,3.03e+04\n",
      "6000000,12000.000001527222,40.30588567548368,261.63035264097357,3.03e+04\n",
      "6250000,12500.000001629085,11.828168967657573,384.1694806881468,3.03e+04\n",
      "6500000,13000.000001730948,20.071784098179712,261.3120201430954,3.04e+04\n",
      "6750000,13500.000001832812,30.38317590086232,365.17176598613594,3.04e+04\n",
      "7000000,14000.000001934675,19.03609439345388,344.8723660748421,3.04e+04\n",
      "7250000,14500.000002036539,33.18086697245868,180.1502599515906,3.04e+04\n",
      "7500000,15000.000002138402,19.234923182134658,326.27952796600607,3.05e+04\n",
      "7750000,15500.000002240266,23.19522068190046,388.2395132876701,3.05e+04\n",
      "8000000,16000.000002342129,15.47674546017852,184.97321745380498,3.05e+04\n",
      "8250000,16500.00000244399,17.1977584785375,325.5954649054869,3.05e+04\n",
      "8500000,17000.000002545854,17.41576463021066,541.005021564429,3.05e+04\n",
      "8750000,17500.000002647717,20.005059852333368,248.9210944577194,3.05e+04\n",
      "9000000,18000.00000274958,21.7904832063432,282.075828950737,3.05e+04\n",
      "9250000,18500.000002851444,8.183872367505353,326.9142782640648,3.05e+04\n",
      "9500000,19000.000002953308,15.970686853774634,167.1468593347385,3.05e+04\n",
      "9750000,19500.00000305517,17.871478663959483,125.65400091923514,3.05e+04\n",
      "10000000,20000.000003157034,17.193753373585608,305.6878920693597,3.05e+04\n",
      "Done!\n",
      "Time required for simulation: 56.69035077095032 seconds\n"
     ]
    }
   ],
   "source": [
    "import time as time\n",
    "\n",
    "print('Running Production...')\n",
    "\n",
    "# Begin timer\n",
    "tinit=time.time()\n",
    "\n",
    "# Clear simulation reporters\n",
    "simulation.reporters.clear()\n",
    "\n",
    "# Reinitialize simulation reporters. We do this because we want different information printed from the production run than the equilibration run.\n",
    "# output basic simulation information below every 250000 steps - (which is equal to 2 fs(250,000) = 500,000 fs = 500 ps)\n",
    "simulation.reporters.append(app.StateDataReporter(stdout, 250000, \n",
    "    step=True, time=True, potentialEnergy=True, temperature=True, \n",
    "    speed=True, separator=',')) # information printed every 250,000 timesteps.\n",
    "\n",
    "# write out a trajectory (i.e., coordinates vs. time) to a DCD\n",
    "# file every 100 steps - 0.2 ps\n",
    "simulation.reporters.append(app.DCDReporter('ethane_sim.dcd', 100))\n",
    "\n",
    "# run the simulation for 1.0x10^7 steps - 20 ns\n",
    "simulation.step(10000000)\n",
    "\n",
    "# End timer\n",
    "tfinal=time.time()\n",
    "print('Done!')\n",
    "print('Time required for simulation:', tfinal-tinit, 'seconds')"
   ]
  },
  {
   "cell_type": "markdown",
   "metadata": {},
   "source": [
    "# **Butane**"
   ]
  },
  {
   "cell_type": "markdown",
   "metadata": {},
   "source": [
    "## simulation set-up"
   ]
  },
  {
   "cell_type": "code",
   "execution_count": 9,
   "metadata": {},
   "outputs": [],
   "source": [
    "# read in a starting structure for butane and the\n",
    "# corresponding force field file\n",
    "pdb = app.PDBFile('butane.pdb')\n",
    "forcefield = app.ForceField('butane.gaff2.xml')\n",
    "\n",
    "# setup system by taking topology from pdb file;\n",
    "# run gas phase simulation with 2 fs time step (using SHAKE)\n",
    "# at 298.15 K using a Langevin thermostat (integrator) with\n",
    "# coupling constant of 5.0 ps^-1\n",
    "system = forcefield.createSystem(pdb.topology, nonbondedMethod=app.NoCutoff, \n",
    "                                 constraints=app.HBonds)\n",
    "integrator = mm.LangevinIntegrator(298.15*unit.kelvin, 5.0/unit.picoseconds, \n",
    "                                   2.0*unit.femtoseconds)\n",
    "integrator.setConstraintTolerance(1e-5)\n",
    "\n",
    "platform = mm.Platform.getPlatformByName('Reference')\n",
    "simulation = app.Simulation(pdb.topology, system, integrator, platform)\n",
    "simulation.context.setPositions(pdb.positions)"
   ]
  },
  {
   "cell_type": "markdown",
   "metadata": {},
   "source": [
    "## energy minimization"
   ]
  },
  {
   "cell_type": "code",
   "execution_count": 10,
   "metadata": {},
   "outputs": [
    {
     "name": "stdout",
     "output_type": "stream",
     "text": [
      "Minimizing...\n",
      "Potential energy before minimization is 5.797528654036221 kJ/mol\n",
      "Potential energy after minimization is 5.295784444937283 kJ/mol\n"
     ]
    }
   ],
   "source": [
    "print('Minimizing...')\n",
    "\n",
    "st = simulation.context.getState(getPositions=True,getEnergy=True)\n",
    "print(\"Potential energy before minimization is %s\" % st.getPotentialEnergy())\n",
    "\n",
    "simulation.minimizeEnergy(maxIterations=100)\n",
    "\n",
    "st = simulation.context.getState(getPositions=True,getEnergy=True)\n",
    "print(\"Potential energy after minimization is %s\" % st.getPotentialEnergy())"
   ]
  },
  {
   "cell_type": "markdown",
   "metadata": {},
   "source": [
    "## Equilibration"
   ]
  },
  {
   "cell_type": "code",
   "execution_count": 11,
   "metadata": {},
   "outputs": [
    {
     "name": "stdout",
     "output_type": "stream",
     "text": [
      "Equilibrating...\n",
      "#\"Step\",\"Potential Energy (kJ/mole)\",\"Temperature (K)\"\n",
      "250,52.65864535634109,264.98947147120003\n",
      "500,46.00604742201483,276.1142509316405\n",
      "750,49.184163011345056,383.5205348272466\n",
      "1000,56.20318207193844,241.36877948440772\n",
      "1250,45.67186517249241,231.30217252536417\n",
      "1500,37.38647124013045,261.23822009404216\n",
      "1750,16.2292929265491,208.90066779319045\n",
      "2000,36.18703682852887,419.89667473744225\n",
      "2250,38.97359185921103,261.0967466750192\n",
      "2500,36.01215578029068,285.245515788058\n",
      "2750,36.957649253403254,191.39963416346524\n",
      "3000,27.167209141620816,266.8115310757112\n",
      "3250,41.81023591289779,160.6306032158399\n",
      "3500,49.56434249714271,312.1835767189677\n",
      "3750,46.871019550078,413.56789837995245\n",
      "4000,34.48281850911455,530.818659037029\n",
      "4250,34.80325905460149,336.72877622375967\n",
      "4500,31.011500780123214,273.63554775664653\n",
      "4750,46.095910916908956,250.77409876253859\n",
      "5000,37.511593510711165,221.56029217168464\n"
     ]
    }
   ],
   "source": [
    "# double the number of steps in our equilibration since we want a time of 10 ps (5,000 * 2 fs = 10 picoseconds)\n",
    "\n",
    "print('Equilibrating...')\n",
    "\n",
    "simulation.reporters.append(app.StateDataReporter(stdout, 250, step=True, potentialEnergy=True, temperature=True, separator=','))\n",
    "simulation.context.setVelocitiesToTemperature(150.0*unit.kelvin)\n",
    "simulation.step(5000)"
   ]
  },
  {
   "cell_type": "markdown",
   "metadata": {},
   "source": [
    "## production"
   ]
  },
  {
   "cell_type": "code",
   "execution_count": 12,
   "metadata": {},
   "outputs": [
    {
     "name": "stdout",
     "output_type": "stream",
     "text": [
      "Running Production...\n",
      "#\"Step\",\"Time (ps)\",\"Potential Energy (kJ/mole)\",\"Temperature (K)\",\"Speed (ns/day)\"\n",
      "500000,999.9999999901769,28.292233970721913,262.4567316409744,0\n",
      "1000000,1999.9999999665301,49.48736178133383,331.1017661713697,1.55e+04\n",
      "1500000,2999.9999999428833,36.095071372717555,335.8304252034456,1.55e+04\n",
      "2000000,3999.9999999192364,43.02314603866043,432.5278087958597,1.56e+04\n",
      "2500000,5000.000000101135,53.926337213843226,349.04276533578553,1.57e+04\n",
      "3000000,6000.000000304862,55.807065884209834,277.2668096224999,1.58e+04\n",
      "3500000,7000.0000005085885,42.44595901570103,441.3648019600698,1.58e+04\n",
      "4000000,8000.000000712315,21.762422059736235,266.9642506895129,1.55e+04\n",
      "4500000,9000.000000916041,52.794255223698464,355.32536238723145,1.53e+04\n",
      "5000000,10000.000001119768,45.00085364032037,318.7110415393793,1.53e+04\n",
      "5500000,11000.000001323495,45.07145196432532,246.35660538900973,1.54e+04\n",
      "6000000,12000.000001527222,41.89243962627038,357.86813502407733,1.54e+04\n",
      "6500000,13000.000001730948,20.15792879381383,232.64023227744124,1.54e+04\n",
      "7000000,14000.000001934675,28.49497183793373,541.2162070159573,1.54e+04\n",
      "7500000,15000.000002138402,41.8510786592389,472.9700359442599,1.55e+04\n",
      "8000000,16000.000002342129,28.23260782877657,235.25182288915985,1.55e+04\n",
      "8500000,17000.000002545854,51.36638652868006,387.1981047811467,1.55e+04\n",
      "9000000,18000.00000274958,44.21566867843169,207.2495338575193,1.56e+04\n",
      "9500000,19000.000002953308,33.69175522516522,303.5231332303751,1.55e+04\n",
      "10000000,20000.000003157034,31.906235467546875,316.04738206475906,1.55e+04\n",
      "10500000,21000.00000336076,39.29341207060538,229.0133560475908,1.55e+04\n",
      "11000000,22000.000003564488,27.576496427447474,367.25107242803824,1.56e+04\n",
      "11500000,23000.000003768215,41.854926359659366,453.1402382715814,1.55e+04\n",
      "12000000,24000.00000397194,42.06429841544256,329.5816247883703,1.55e+04\n",
      "12500000,25000.00000417567,62.71375908961766,213.2112564950494,1.55e+04\n",
      "13000000,26000.000004379395,31.00883337116452,142.90469614631735,1.55e+04\n",
      "13500000,27000.000004583122,32.52175566669939,282.771797379138,1.54e+04\n",
      "14000000,28000.00000478685,29.473600534105927,338.8060004697844,1.54e+04\n",
      "14500000,29000.000004990576,20.11048442005771,493.7342176577292,1.54e+04\n",
      "15000000,30000.000005194303,32.66661892799081,220.3362867600907,1.54e+04\n",
      "15500000,31000.00000539803,31.520964565584517,371.9656830844408,1.54e+04\n",
      "16000000,32000.000005601756,45.33809290803054,292.1917105436672,1.54e+04\n",
      "16500000,33000.00000580548,43.68089729203032,286.388024561843,1.54e+04\n",
      "17000000,34000.000006009206,28.109451124253148,262.46843147572696,1.54e+04\n",
      "17500000,35000.00000621293,47.74448030598643,198.69819793453686,1.54e+04\n",
      "18000000,36000.00000641666,48.53132774298452,232.6425121234123,1.54e+04\n",
      "18500000,37000.00000662039,51.34632409381992,275.77441267938644,1.54e+04\n",
      "19000000,38000.00000682411,39.24416286262949,512.2411721707745,1.54e+04\n",
      "19500000,39000.00000702784,43.88906901539083,328.67744256582114,1.54e+04\n",
      "20000000,40000.00000723157,31.647797023378832,163.09302954040604,1.54e+04\n",
      "Done!\n",
      "Time required for simulation: 224.14797401428223 seconds\n"
     ]
    }
   ],
   "source": [
    "print('Running Production...')\n",
    "\n",
    "tinit=time.time()\n",
    "simulation.reporters.clear()\n",
    "# output basic simulation information below every 500000 steps/1 ns\n",
    "simulation.reporters.append(app.StateDataReporter(stdout, 500000, \n",
    "    step=True, time=True, potentialEnergy=True, temperature=True, \n",
    "    speed=True, separator=','))\n",
    "# write out a trajectory (i.e., coordinates vs. time) to a DCD\n",
    "# file every 100 steps/0.2 ps\n",
    "simulation.reporters.append(app.DCDReporter('butane_sim.dcd', 100))\n",
    "\n",
    "# run the simulation for 2.0x10^7 steps/40 ns\n",
    "simulation.step(20000000)\n",
    "tfinal=time.time()\n",
    "print('Done!')\n",
    "print('Time required for simulation:', tfinal-tinit, 'seconds')"
   ]
  },
  {
   "cell_type": "markdown",
   "metadata": {},
   "source": [
    "# Analysis"
   ]
  },
  {
   "cell_type": "code",
   "execution_count": 13,
   "metadata": {},
   "outputs": [],
   "source": [
    "# libraries\n",
    "# nglview to visualize the trajectory\n",
    "# MDTraj to analyze the trajectory.\n",
    "\n",
    "\n",
    "# reads all of the atomic positions from ethane_sim.dcd \n",
    "# and keeps track of atom connectivity (topology) which was given in the PDB file.\n",
    "\n",
    "import mdtraj as md\n",
    "\n",
    "traj = md.load('ethane_sim.dcd', top='ethane.pdb') "
   ]
  },
  {
   "cell_type": "code",
   "execution_count": 14,
   "metadata": {},
   "outputs": [
    {
     "data": {
      "application/vnd.jupyter.widget-view+json": {
       "model_id": "5df519f5e6d747eb98da9839328409e0",
       "version_major": 2,
       "version_minor": 0
      },
      "text/plain": [
       "_ColormakerRegistry()"
      ]
     },
     "metadata": {},
     "output_type": "display_data"
    },
    {
     "data": {
      "application/vnd.jupyter.widget-view+json": {
       "model_id": "7adbbc75b9ff43f6b17146f990c9cfe4",
       "version_major": 2,
       "version_minor": 0
      },
      "text/plain": [
       "NGLWidget(max_frame=99999)"
      ]
     },
     "metadata": {},
     "output_type": "display_data"
    }
   ],
   "source": [
    "# visualize the trajectory using nglview. \n",
    "# Nglview has a special function show_mdtraj that we can use with our trajectory because it was in a specific format from the MDTraj library.\n",
    "\n",
    "import nglview as ngl\n",
    "\n",
    "visualize = ngl.show_mdtraj(traj)\n",
    "visualize"
   ]
  },
  {
   "cell_type": "code",
   "execution_count": 15,
   "metadata": {},
   "outputs": [
    {
     "data": {
      "text/html": [
       "<div>\n",
       "<style scoped>\n",
       "    .dataframe tbody tr th:only-of-type {\n",
       "        vertical-align: middle;\n",
       "    }\n",
       "\n",
       "    .dataframe tbody tr th {\n",
       "        vertical-align: top;\n",
       "    }\n",
       "\n",
       "    .dataframe thead th {\n",
       "        text-align: right;\n",
       "    }\n",
       "</style>\n",
       "<table border=\"1\" class=\"dataframe\">\n",
       "  <thead>\n",
       "    <tr style=\"text-align: right;\">\n",
       "      <th></th>\n",
       "      <th>serial</th>\n",
       "      <th>name</th>\n",
       "      <th>element</th>\n",
       "      <th>resSeq</th>\n",
       "      <th>resName</th>\n",
       "      <th>chainID</th>\n",
       "      <th>segmentID</th>\n",
       "    </tr>\n",
       "  </thead>\n",
       "  <tbody>\n",
       "    <tr>\n",
       "      <th>0</th>\n",
       "      <td>1</td>\n",
       "      <td>C1</td>\n",
       "      <td>C</td>\n",
       "      <td>1</td>\n",
       "      <td>ETH</td>\n",
       "      <td>0</td>\n",
       "      <td></td>\n",
       "    </tr>\n",
       "    <tr>\n",
       "      <th>1</th>\n",
       "      <td>2</td>\n",
       "      <td>H11</td>\n",
       "      <td>H</td>\n",
       "      <td>1</td>\n",
       "      <td>ETH</td>\n",
       "      <td>0</td>\n",
       "      <td></td>\n",
       "    </tr>\n",
       "    <tr>\n",
       "      <th>2</th>\n",
       "      <td>3</td>\n",
       "      <td>H12</td>\n",
       "      <td>H</td>\n",
       "      <td>1</td>\n",
       "      <td>ETH</td>\n",
       "      <td>0</td>\n",
       "      <td></td>\n",
       "    </tr>\n",
       "    <tr>\n",
       "      <th>3</th>\n",
       "      <td>4</td>\n",
       "      <td>H13</td>\n",
       "      <td>H</td>\n",
       "      <td>1</td>\n",
       "      <td>ETH</td>\n",
       "      <td>0</td>\n",
       "      <td></td>\n",
       "    </tr>\n",
       "    <tr>\n",
       "      <th>4</th>\n",
       "      <td>5</td>\n",
       "      <td>C2</td>\n",
       "      <td>C</td>\n",
       "      <td>1</td>\n",
       "      <td>ETH</td>\n",
       "      <td>0</td>\n",
       "      <td></td>\n",
       "    </tr>\n",
       "    <tr>\n",
       "      <th>5</th>\n",
       "      <td>6</td>\n",
       "      <td>H21</td>\n",
       "      <td>H</td>\n",
       "      <td>1</td>\n",
       "      <td>ETH</td>\n",
       "      <td>0</td>\n",
       "      <td></td>\n",
       "    </tr>\n",
       "    <tr>\n",
       "      <th>6</th>\n",
       "      <td>7</td>\n",
       "      <td>H22</td>\n",
       "      <td>H</td>\n",
       "      <td>1</td>\n",
       "      <td>ETH</td>\n",
       "      <td>0</td>\n",
       "      <td></td>\n",
       "    </tr>\n",
       "    <tr>\n",
       "      <th>7</th>\n",
       "      <td>8</td>\n",
       "      <td>H23</td>\n",
       "      <td>H</td>\n",
       "      <td>1</td>\n",
       "      <td>ETH</td>\n",
       "      <td>0</td>\n",
       "      <td></td>\n",
       "    </tr>\n",
       "  </tbody>\n",
       "</table>\n",
       "</div>"
      ],
      "text/plain": [
       "   serial name element  resSeq resName  chainID segmentID\n",
       "0       1   C1       C       1     ETH        0          \n",
       "1       2  H11       H       1     ETH        0          \n",
       "2       3  H12       H       1     ETH        0          \n",
       "3       4  H13       H       1     ETH        0          \n",
       "4       5   C2       C       1     ETH        0          \n",
       "5       6  H21       H       1     ETH        0          \n",
       "6       7  H22       H       1     ETH        0          \n",
       "7       8  H23       H       1     ETH        0          "
      ]
     },
     "execution_count": 15,
     "metadata": {},
     "output_type": "execute_result"
    }
   ],
   "source": [
    "# pull our bonds and atoms for analysis\n",
    "\n",
    "atoms, bonds = traj.topology.to_dataframe()\n",
    "atoms"
   ]
  },
  {
   "cell_type": "code",
   "execution_count": 16,
   "metadata": {},
   "outputs": [],
   "source": [
    "bond_indices = [0, 4] # atoms to define the bond length\n",
    "bond_length = md.compute_distances(traj, [bond_indices])"
   ]
  },
  {
   "cell_type": "code",
   "execution_count": 17,
   "metadata": {},
   "outputs": [
    {
     "data": {
      "image/png": "[encoded data removed]",
      "text/plain": [
       "<Figure size 432x288 with 1 Axes>"
      ]
     },
     "metadata": {
      "needs_background": "light"
     },
     "output_type": "display_data"
    }
   ],
   "source": [
    "import matplotlib.pyplot as plt\n",
    "\n",
    "bondcounts, binedges, otherstuff = plt.hist(bond_length, bins=120)\n",
    "plt.title('C-C bond length histogram')\n",
    "plt.xlabel('Bond length (nm)')\n",
    "plt.ylabel('Counts')\n",
    "plt.show()"
   ]
  },
  {
   "cell_type": "markdown",
   "metadata": {},
   "source": [
    "### Analyzing the H-C-C-H torsion"
   ]
  },
  {
   "cell_type": "code",
   "execution_count": 18,
   "metadata": {},
   "outputs": [
    {
     "name": "stdout",
     "output_type": "stream",
     "text": [
      "[[ 1.1716627]\n",
      " [ 0.9579757]\n",
      " [ 1.1940376]\n",
      " ...\n",
      " [-1.0366436]\n",
      " [-1.2779131]\n",
      " [-1.1241577]]\n"
     ]
    }
   ],
   "source": [
    "# A torsion is made up of four atoms which are bonded to each other.\n",
    "# Analyze the torsion angle associated with the atoms H11-C1-C2-H21 for your trajectory. \n",
    "# Instead of using the function compute_distance, use compute_dihedrals. \n",
    "# Create a histogram plot of the torsion angles. \n",
    "\n",
    "# pick the atom indices of our torsion angle and use the compute_dihedrals function to calculate the dihedrals.\n",
    "phi_indices = [1, 0, 4, 5] # atoms to define the torsion angle\n",
    "phi = md.compute_dihedrals(traj, [phi_indices])\n",
    "\n",
    "print(phi)"
   ]
  },
  {
   "cell_type": "code",
   "execution_count": 19,
   "metadata": {},
   "outputs": [
    {
     "data": {
      "image/png": "[encoded data removed]",
      "text/plain": [
       "<Figure size 432x288 with 1 Axes>"
      ]
     },
     "metadata": {
      "needs_background": "light"
     },
     "output_type": "display_data"
    }
   ],
   "source": [
    "import matplotlib.pyplot as plt\n",
    "\n",
    "phicounts, binedges, otherstuff = plt.hist(phi, bins=90) # create a histogram with 90 bins\n",
    "plt.title('H-C-C-H torsion angle')\n",
    "plt.xlabel(r'$\\phi$ (rad)')\n",
    "plt.ylabel('Counts')\n",
    "plt.show()"
   ]
  },
  {
   "cell_type": "markdown",
   "metadata": {},
   "source": [
    "## potential of mean force calculation"
   ]
  },
  {
   "cell_type": "markdown",
   "metadata": {},
   "source": [
    "#### mean force calculation\n",
    "$$ W(x) = -k_bT*ln[p(x)]+C $$"
   ]
  },
  {
   "cell_type": "code",
   "execution_count": 20,
   "metadata": {},
   "outputs": [
    {
     "data": {
      "image/png": "[encoded data removed]",
      "text/plain": [
       "<Figure size 432x288 with 1 Axes>"
      ]
     },
     "metadata": {
      "needs_background": "light"
     },
     "output_type": "display_data"
    }
   ],
   "source": [
    "kB = 8.31446/1000 # Boltzmann constant in kJ/mol\n",
    "Temp = 298.15 # simulation temperature\n",
    "phicounts[phicounts==0] = 0.1 # get rid of any bins with 0 counts/infinite energy\n",
    "pmf = -kB*Temp*np.log(phicounts) # W(x) = -kT*ln[p(x)] = -kT*ln[n(x)] + C\n",
    "pmf = pmf - np.min(pmf) # subtract off minimum value so that energies start from 0\n",
    "\n",
    "bincenters = (binedges[1:] + binedges[:-1])/2 # compute centers of histogram bins\n",
    "\n",
    "plt.plot(bincenters, pmf)\n",
    "plt.title('H-C-C-H torsion pmf')\n",
    "plt.xlabel(r'$\\phi$ (rad)')\n",
    "plt.ylabel('Relative free energy (kJ/mol)')\n",
    "plt.show()"
   ]
  },
  {
   "cell_type": "markdown",
   "metadata": {},
   "source": [
    "When we examine the plot, we can see that the PMF is not smooth near the free energy maxima. This is due to finite sampling in our relatively short simulation. This makes sense because the configurations of the molecule with the higher energy would not occur as many times during the simulation. To make this smoother, we could run a longer simulation or use a smoothing function on our data."
   ]
  },
  {
   "cell_type": "code",
   "execution_count": null,
   "metadata": {},
   "outputs": [],
   "source": [
    "# C-C PMF\n",
    "bondcounts[bondcounts==0] = 0.1\n",
    "pmf = -kB*Temp*np.log(bondcounts)\n",
    "pmf = pmf - np.min(pmf)\n",
    "\n",
    "bincenters = (binedges[1:] + binedges[:-1])/2\n",
    "\n",
    "pmf_smoothed = sm.nonparametric.lowess(pmf, bincenters, frac=0.05)\n",
    "pmf_s = pmf_smoothed[:,1] - np.min(pmf_smoothed[:,1])\n",
    "\n",
    "plt.plot(bincenters, pmf_s)\n",
    "plt.xlabel('Bond length (nm)')\n",
    "plt.ylabel('Relative free energy (kJ/mol)')\n",
    "plt.title('C-C bond length pmf')\n",
    "plt.show()"
   ]
  },
  {
   "cell_type": "code",
   "execution_count": null,
   "metadata": {},
   "outputs": [],
   "source": [
    "# higher energy bond lengths are less smooth. \n",
    "# This is because these bond lengths did not occur very much in our simulation (because of the high energy), so our statistics are poor. \n",
    "# If we wanted to exclude these areas, we could subset the part of our data which we plot:\n",
    "plt.plot(bincenters[pmf_s < 15], pmf_s[pmf_s < 15])\n",
    "plt.xlabel('Bond length (nm)')\n",
    "plt.ylabel('Relative free energy (kJ/mol)')\n",
    "plt.title('C-C bond length pmf')\n",
    "plt.show()"
   ]
  },
  {
   "cell_type": "markdown",
   "metadata": {},
   "source": [
    "## **Analysis of Butane Trajectory**"
   ]
  },
  {
   "cell_type": "markdown",
   "metadata": {},
   "source": [
    "### read in the md trajectory"
   ]
  },
  {
   "cell_type": "code",
   "execution_count": 23,
   "metadata": {},
   "outputs": [
    {
     "data": {
      "text/html": [
       "<div>\n",
       "<style scoped>\n",
       "    .dataframe tbody tr th:only-of-type {\n",
       "        vertical-align: middle;\n",
       "    }\n",
       "\n",
       "    .dataframe tbody tr th {\n",
       "        vertical-align: top;\n",
       "    }\n",
       "\n",
       "    .dataframe thead th {\n",
       "        text-align: right;\n",
       "    }\n",
       "</style>\n",
       "<table border=\"1\" class=\"dataframe\">\n",
       "  <thead>\n",
       "    <tr style=\"text-align: right;\">\n",
       "      <th></th>\n",
       "      <th>serial</th>\n",
       "      <th>name</th>\n",
       "      <th>element</th>\n",
       "      <th>resSeq</th>\n",
       "      <th>resName</th>\n",
       "      <th>chainID</th>\n",
       "      <th>segmentID</th>\n",
       "    </tr>\n",
       "  </thead>\n",
       "  <tbody>\n",
       "    <tr>\n",
       "      <th>0</th>\n",
       "      <td>1</td>\n",
       "      <td>C1</td>\n",
       "      <td>C</td>\n",
       "      <td>1</td>\n",
       "      <td>NBU</td>\n",
       "      <td>0</td>\n",
       "      <td></td>\n",
       "    </tr>\n",
       "    <tr>\n",
       "      <th>1</th>\n",
       "      <td>2</td>\n",
       "      <td>H11</td>\n",
       "      <td>H</td>\n",
       "      <td>1</td>\n",
       "      <td>NBU</td>\n",
       "      <td>0</td>\n",
       "      <td></td>\n",
       "    </tr>\n",
       "    <tr>\n",
       "      <th>2</th>\n",
       "      <td>3</td>\n",
       "      <td>H12</td>\n",
       "      <td>H</td>\n",
       "      <td>1</td>\n",
       "      <td>NBU</td>\n",
       "      <td>0</td>\n",
       "      <td></td>\n",
       "    </tr>\n",
       "    <tr>\n",
       "      <th>3</th>\n",
       "      <td>4</td>\n",
       "      <td>H13</td>\n",
       "      <td>H</td>\n",
       "      <td>1</td>\n",
       "      <td>NBU</td>\n",
       "      <td>0</td>\n",
       "      <td></td>\n",
       "    </tr>\n",
       "    <tr>\n",
       "      <th>4</th>\n",
       "      <td>5</td>\n",
       "      <td>C2</td>\n",
       "      <td>C</td>\n",
       "      <td>1</td>\n",
       "      <td>NBU</td>\n",
       "      <td>0</td>\n",
       "      <td></td>\n",
       "    </tr>\n",
       "    <tr>\n",
       "      <th>5</th>\n",
       "      <td>6</td>\n",
       "      <td>H21</td>\n",
       "      <td>H</td>\n",
       "      <td>1</td>\n",
       "      <td>NBU</td>\n",
       "      <td>0</td>\n",
       "      <td></td>\n",
       "    </tr>\n",
       "    <tr>\n",
       "      <th>6</th>\n",
       "      <td>7</td>\n",
       "      <td>H22</td>\n",
       "      <td>H</td>\n",
       "      <td>1</td>\n",
       "      <td>NBU</td>\n",
       "      <td>0</td>\n",
       "      <td></td>\n",
       "    </tr>\n",
       "    <tr>\n",
       "      <th>7</th>\n",
       "      <td>8</td>\n",
       "      <td>C3</td>\n",
       "      <td>C</td>\n",
       "      <td>1</td>\n",
       "      <td>NBU</td>\n",
       "      <td>0</td>\n",
       "      <td></td>\n",
       "    </tr>\n",
       "    <tr>\n",
       "      <th>8</th>\n",
       "      <td>9</td>\n",
       "      <td>H31</td>\n",
       "      <td>H</td>\n",
       "      <td>1</td>\n",
       "      <td>NBU</td>\n",
       "      <td>0</td>\n",
       "      <td></td>\n",
       "    </tr>\n",
       "    <tr>\n",
       "      <th>9</th>\n",
       "      <td>10</td>\n",
       "      <td>H32</td>\n",
       "      <td>H</td>\n",
       "      <td>1</td>\n",
       "      <td>NBU</td>\n",
       "      <td>0</td>\n",
       "      <td></td>\n",
       "    </tr>\n",
       "    <tr>\n",
       "      <th>10</th>\n",
       "      <td>11</td>\n",
       "      <td>C4</td>\n",
       "      <td>C</td>\n",
       "      <td>1</td>\n",
       "      <td>NBU</td>\n",
       "      <td>0</td>\n",
       "      <td></td>\n",
       "    </tr>\n",
       "    <tr>\n",
       "      <th>11</th>\n",
       "      <td>12</td>\n",
       "      <td>H41</td>\n",
       "      <td>H</td>\n",
       "      <td>1</td>\n",
       "      <td>NBU</td>\n",
       "      <td>0</td>\n",
       "      <td></td>\n",
       "    </tr>\n",
       "    <tr>\n",
       "      <th>12</th>\n",
       "      <td>13</td>\n",
       "      <td>H42</td>\n",
       "      <td>H</td>\n",
       "      <td>1</td>\n",
       "      <td>NBU</td>\n",
       "      <td>0</td>\n",
       "      <td></td>\n",
       "    </tr>\n",
       "    <tr>\n",
       "      <th>13</th>\n",
       "      <td>14</td>\n",
       "      <td>H43</td>\n",
       "      <td>H</td>\n",
       "      <td>1</td>\n",
       "      <td>NBU</td>\n",
       "      <td>0</td>\n",
       "      <td></td>\n",
       "    </tr>\n",
       "  </tbody>\n",
       "</table>\n",
       "</div>"
      ],
      "text/plain": [
       "    serial name element  resSeq resName  chainID segmentID\n",
       "0        1   C1       C       1     NBU        0          \n",
       "1        2  H11       H       1     NBU        0          \n",
       "2        3  H12       H       1     NBU        0          \n",
       "3        4  H13       H       1     NBU        0          \n",
       "4        5   C2       C       1     NBU        0          \n",
       "5        6  H21       H       1     NBU        0          \n",
       "6        7  H22       H       1     NBU        0          \n",
       "7        8   C3       C       1     NBU        0          \n",
       "8        9  H31       H       1     NBU        0          \n",
       "9       10  H32       H       1     NBU        0          \n",
       "10      11   C4       C       1     NBU        0          \n",
       "11      12  H41       H       1     NBU        0          \n",
       "12      13  H42       H       1     NBU        0          \n",
       "13      14  H43       H       1     NBU        0          "
      ]
     },
     "execution_count": 23,
     "metadata": {},
     "output_type": "execute_result"
    }
   ],
   "source": [
    "traj = md.load('butane_sim.dcd', top='butane.pdb')\n",
    "atoms, bonds = traj.topology.to_dataframe()\n",
    "atoms"
   ]
  },
  {
   "cell_type": "markdown",
   "metadata": {},
   "source": [
    "### visualize"
   ]
  },
  {
   "cell_type": "code",
   "execution_count": 24,
   "metadata": {},
   "outputs": [
    {
     "data": {
      "application/vnd.jupyter.widget-view+json": {
       "model_id": "b15e7450a1aa490295f0b9c3ecd3b60e",
       "version_major": 2,
       "version_minor": 0
      },
      "text/plain": [
       "NGLWidget(max_frame=199999)"
      ]
     },
     "metadata": {},
     "output_type": "display_data"
    }
   ],
   "source": [
    "visualize = ngl.show_mdtraj(traj)\n",
    "visualize"
   ]
  },
  {
   "cell_type": "markdown",
   "metadata": {},
   "source": [
    "### Analyzing the C-C-C-C torsion"
   ]
  },
  {
   "cell_type": "code",
   "execution_count": 25,
   "metadata": {},
   "outputs": [
    {
     "data": {
      "image/png": "[encoded data removed]",
      "text/plain": [
       "<Figure size 432x288 with 1 Axes>"
      ]
     },
     "metadata": {
      "needs_background": "light"
     },
     "output_type": "display_data"
    },
    {
     "name": "stdout",
     "output_type": "stream",
     "text": [
      "200000.0\n"
     ]
    }
   ],
   "source": [
    "phi_indices = [0, 4, 7, 10] # atoms to define the torsion angle\n",
    "phi = md.compute_dihedrals(traj, [phi_indices])\n",
    "\n",
    "phicounts, binedges, otherstuff = plt.hist(phi, bins=90) # create a histogram with 90 bins\n",
    "plt.title('C-C-C-C torsion angle')\n",
    "plt.xlabel(r'$\\phi$ (rad)')\n",
    "plt.ylabel('Counts')\n",
    "plt.show()\n",
    "\n",
    "print(np.sum(phicounts))"
   ]
  },
  {
   "cell_type": "markdown",
   "metadata": {},
   "source": [
    "### C-C-C-C torsion PMF"
   ]
  },
  {
   "cell_type": "code",
   "execution_count": 26,
   "metadata": {},
   "outputs": [
    {
     "data": {
      "image/png": "[encoded data removed]",
      "text/plain": [
       "<Figure size 432x288 with 1 Axes>"
      ]
     },
     "metadata": {
      "needs_background": "light"
     },
     "output_type": "display_data"
    }
   ],
   "source": [
    "B = 8.31446/1000 # Boltzmann constant in kJ/mol\n",
    "Temp = 298.15 # simulation temperature in K\n",
    "phicounts[phicounts==0] = 0.1 # get rid of any bins with 0 counts/infinite energy\n",
    "pmf = -kB*Temp*np.log(phicounts) # W(x) = -kT*ln[p(x)] = -kT*ln[n(x)] + C\n",
    "pmf = pmf - np.min(pmf) # subtract off minimum value so that energies start from 0\n",
    "\n",
    "bincenters = (binedges[1:] + binedges[:-1])/2 # compute centers of histogram bins\n",
    "\n",
    "plt.plot(bincenters, pmf)\n",
    "plt.title('C-C-C-C torsion pmf')\n",
    "plt.xlabel(r'$\\phi$ (rad)')\n",
    "plt.ylabel('Relative free energy (kJ/mol)')\n",
    "plt.show()"
   ]
  },
  {
   "cell_type": "markdown",
   "metadata": {},
   "source": [
    "### Analyzing the C-C-C angle"
   ]
  },
  {
   "cell_type": "code",
   "execution_count": 27,
   "metadata": {},
   "outputs": [
    {
     "data": {
      "image/png": "[encoded data removed]",
      "text/plain": [
       "<Figure size 432x288 with 1 Axes>"
      ]
     },
     "metadata": {
      "needs_background": "light"
     },
     "output_type": "display_data"
    }
   ],
   "source": [
    "angle_indices = [0, 4, 7] # or could do [4, 7, 10]\n",
    "bondangle = md.compute_angles(traj, [angle_indices])\n",
    "\n",
    "anglecounts, binedges, otherstuff = plt.hist(bondangle, bins=100)\n",
    "plt.title('C-C-C bond angle')\n",
    "plt.xlabel('Bond angle (rad)')\n",
    "plt.ylabel('Counts')\n",
    "plt.show()"
   ]
  },
  {
   "cell_type": "markdown",
   "metadata": {},
   "source": [
    "### C-C-C angle PMF"
   ]
  },
  {
   "cell_type": "code",
   "execution_count": 28,
   "metadata": {},
   "outputs": [
    {
     "data": {
      "image/png": "[encoded data removed]",
      "text/plain": [
       "<Figure size 432x288 with 1 Axes>"
      ]
     },
     "metadata": {
      "needs_background": "light"
     },
     "output_type": "display_data"
    }
   ],
   "source": [
    "anglecounts[anglecounts==0] = 0.1\n",
    "pmf = -kB*Temp*np.log(anglecounts)\n",
    "pmf = pmf - np.min(pmf)\n",
    "\n",
    "bincenters = (binedges[1:] + binedges[:-1])/2\n",
    "\n",
    "\n",
    "plt.plot(bincenters, pmf)\n",
    "plt.xlabel('Bond angle (rad)')\n",
    "plt.ylabel('Relative free energy (kJ/mol)')\n",
    "plt.show()"
   ]
  },
  {
   "cell_type": "markdown",
   "metadata": {},
   "source": [
    "### Analyzing a C-H bond"
   ]
  },
  {
   "cell_type": "code",
   "execution_count": 29,
   "metadata": {},
   "outputs": [
    {
     "data": {
      "image/png": "[encoded data removed]",
      "text/plain": [
       "<Figure size 432x288 with 1 Axes>"
      ]
     },
     "metadata": {
      "needs_background": "light"
     },
     "output_type": "display_data"
    }
   ],
   "source": [
    "bond_indices = [0, 1] # many possibilities!\n",
    "bondlength = md.compute_distances(traj, [bond_indices])\n",
    "\n",
    "lengthcounts, binedges, otherstuff = plt.hist(bondlength, bins=100)\n",
    "plt.title('C-H bond length')\n",
    "plt.xlabel('Bond length (nm)')\n",
    "plt.ylabel('Counts')\n",
    "plt.show()"
   ]
  },
  {
   "cell_type": "markdown",
   "metadata": {},
   "source": [
    "The C-H bond length does not behave at all like something subject to a harmonic potential. So what’s going on? Remember that in this simulation we have “frozen” all of the covalent bonds involving H atoms so that we can use a 2 fs time step. Therefore only the non-H atoms undergo true dynamics; the positions of the H atoms are calculated after each time step using an interative algorithm (SHAKE)."
   ]
  },
  {
   "cell_type": "code",
   "execution_count": null,
   "metadata": {},
   "outputs": [],
   "source": []
  }
 ],
 "metadata": {
  "kernelspec": {
   "display_name": "Python 3",
   "language": "python",
   "name": "python3"
  },
  "language_info": {
   "codemirror_mode": {
    "name": "ipython",
    "version": 3
   },
   "file_extension": ".py",
   "mimetype": "text/x-python",
   "name": "python",
   "nbconvert_exporter": "python",
   "pygments_lexer": "ipython3",
   "version": "3.7.6"
  }
 },
 "nbformat": 4,
 "nbformat_minor": 4
}
