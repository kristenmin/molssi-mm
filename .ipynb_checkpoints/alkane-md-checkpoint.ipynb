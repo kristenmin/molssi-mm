{
 "cells": [
  {
   "cell_type": "markdown",
   "metadata": {},
   "source": [
    "# MD simulation of alkanes"
   ]
  },
  {
   "cell_type": "code",
   "execution_count": 31,
   "metadata": {},
   "outputs": [],
   "source": [
    "# imports\n",
    "from simtk.openmm import app\n",
    "import simtk.openmm as mm\n",
    "from simtk import unit\n",
    "import numpy as np\n",
    "import statsmodels.api as sm"
   ]
  },
  {
   "cell_type": "markdown",
   "metadata": {},
   "source": [
    "# **Ethane**"
   ]
  },
  {
   "cell_type": "markdown",
   "metadata": {},
   "source": [
    "## simulation initialization"
   ]
  },
  {
   "cell_type": "code",
   "execution_count": 3,
   "metadata": {},
   "outputs": [],
   "source": [
    "pdb = app.PDBFile('ethane.pdb') # read in the PDB file to get the initial coordinates\n",
    "forcefield = app.ForceField('ethane.gaff2.xml') # give OpenMM the force field file and add to pdb variable"
   ]
  },
  {
   "cell_type": "code",
   "execution_count": 4,
   "metadata": {},
   "outputs": [],
   "source": [
    "# set up the system for md simulation\n",
    "system = forcefield.createSystem(pdb.topology, nonbondedMethod=app.NoCutoff, constraints=app.HBonds)"
   ]
  },
  {
   "cell_type": "code",
   "execution_count": 5,
   "metadata": {},
   "outputs": [],
   "source": [
    "# Langevin integrator\n",
    "integrator = mm.LangevinIntegrator(298.15*unit.kelvin, 5.0/unit.picoseconds, 2.0*unit.femtoseconds)\n",
    "integrator.setConstraintTolerance(1e-5)"
   ]
  },
  {
   "cell_type": "code",
   "execution_count": 6,
   "metadata": {},
   "outputs": [],
   "source": [
    "platform = mm.Platform.getPlatformByName('Reference')\n",
    "simulation = app.Simulation(pdb.topology, system, integrator, platform)\n",
    "simulation.context.setPositions(pdb.positions)"
   ]
  },
  {
   "cell_type": "markdown",
   "metadata": {},
   "source": [
    "## energy minimization"
   ]
  },
  {
   "cell_type": "code",
   "execution_count": 7,
   "metadata": {},
   "outputs": [
    {
     "name": "stdout",
     "output_type": "stream",
     "text": [
      "Minimizing...\n",
      "Potential energy before minimization is 4.467818224810632 kJ/mol\n",
      "Potential energy after minimization is 4.389967678922688 kJ/mol\n"
     ]
    }
   ],
   "source": [
    "# energy minimization just moves the atoms of the molecule slightly to get to a local minimum in energy.\n",
    "\n",
    "print('Minimizing...')\n",
    "\n",
    "st = simulation.context.getState(getPositions=True,getEnergy=True)\n",
    "print(F\"Potential energy before minimization is {st.getPotentialEnergy()}\")\n",
    "\n",
    "simulation.minimizeEnergy(maxIterations=100) # 100 steps of energy min.\n",
    "\n",
    "st = simulation.context.getState(getPositions=True,getEnergy=True)\n",
    "print(F\"Potential energy after minimization is {st.getPotentialEnergy()}\")"
   ]
  },
  {
   "cell_type": "markdown",
   "metadata": {},
   "source": [
    "## Equilibration"
   ]
  },
  {
   "cell_type": "code",
   "execution_count": 8,
   "metadata": {},
   "outputs": [
    {
     "name": "stdout",
     "output_type": "stream",
     "text": [
      "Equilibrating...\n",
      "#\"Step\",\"Potential Energy (kJ/mole)\",\"Temperature (K)\"\n",
      "100,26.0320755291946,182.66016531668805\n",
      "200,20.750818630256443,362.444708128027\n",
      "300,22.0344556683133,321.5329146386906\n",
      "400,24.89103966380516,271.8266651152074\n",
      "500,19.340381762886445,269.9529112811983\n",
      "600,11.377289872579565,143.48860224871478\n",
      "700,15.642332367581007,145.17471084879963\n",
      "800,16.969240434560586,473.2168577943493\n",
      "900,27.89350425302571,323.1103698616505\n",
      "1000,19.602847623567676,402.62386589384994\n",
      "1100,23.337171156736627,444.84436510963286\n",
      "1200,22.36579885939414,404.7105362990127\n",
      "1300,38.060655368968185,328.7969281529237\n",
      "1400,24.211992379538252,338.2910187588376\n",
      "1500,16.51226009386799,240.70023083343042\n",
      "1600,20.56751446497279,201.0285908859293\n",
      "1700,19.562280514777804,146.94207518196143\n",
      "1800,26.01555426517455,173.56835479580187\n",
      "1900,25.109172737812273,447.1551803835239\n",
      "2000,16.492736333397595,235.93762466001752\n",
      "2100,19.83049002767121,210.0856656805696\n",
      "2200,14.351470960786473,493.88099817422244\n",
      "2300,27.85591407083248,494.10961995874936\n",
      "2400,23.81607256539471,406.32906948898756\n",
      "2500,19.119134686844276,250.73683416226584\n"
     ]
    }
   ],
   "source": [
    "# equilibration is to get our system to our target temperature and to get the system equilibrated and ready for our production run.\n",
    "\n",
    "from sys import stdout # sets up what information OpenMM will report to us as the simulation runs.\n",
    "\n",
    "print('Equilibrating...')\n",
    "\n",
    "# asking for the potential energy, and temperature every 100 timesteps.\n",
    "\n",
    "simulation.reporters.append(app.StateDataReporter(stdout, 100, step=True, # stdout = just print the info.\n",
    "    potentialEnergy=True, temperature=True, separator=','))\n",
    "simulation.context.setVelocitiesToTemperature(150.0*unit.kelvin) # sets the initial velocities of the system to a temperature equivalent of 150 K.\n",
    "simulation.step(2500) # integrate for 2,500 steps to allow the system to equilibrate."
   ]
  },
  {
   "cell_type": "markdown",
   "metadata": {},
   "source": [
    "## production"
   ]
  },
  {
   "cell_type": "code",
   "execution_count": 9,
   "metadata": {},
   "outputs": [
    {
     "name": "stdout",
     "output_type": "stream",
     "text": [
      "Running Production...\n",
      "#\"Step\",\"Time (ps)\",\"Potential Energy (kJ/mole)\",\"Temperature (K)\",\"Speed (ns/day)\"\n",
      "250000,500.0000000016593,20.678406033656753,524.9677890152641,0\n",
      "500000,999.9999999901769,11.755010848797047,236.16184884345333,3.37e+04\n",
      "750000,1499.9999999783536,10.173224791143381,302.6287172627103,3.47e+04\n",
      "1000000,1999.9999999665301,12.538150823966326,103.1071593744976,3.4e+04\n",
      "1250000,2499.9999999547067,13.122085908802068,193.3168618901662,3.38e+04\n",
      "1500000,2999.9999999428833,31.19390284297191,214.56342743892182,3.36e+04\n",
      "1750000,3499.99999993106,19.242020867199507,320.6159374586212,3.39e+04\n",
      "2000000,3999.9999999192364,20.316667732873864,233.53031494152475,3.42e+04\n",
      "2250000,4499.9999999992715,24.565757916490416,275.01233588801847,3.44e+04\n",
      "2500000,5000.000000101135,14.645054193226303,250.31093831951208,3.46e+04\n",
      "2750000,5500.000000202998,17.301096145314062,299.4325432021197,3.47e+04\n",
      "3000000,6000.000000304862,13.275193310034975,289.45007476587017,3.48e+04\n",
      "3250000,6500.000000406725,17.981642184069617,518.0274795781545,3.49e+04\n",
      "3500000,7000.0000005085885,41.57434587330493,197.6746601636375,3.49e+04\n",
      "3750000,7500.000000610452,19.063102830360037,335.5818475546161,3.49e+04\n",
      "4000000,8000.000000712315,35.737407402628634,226.58927340108409,3.5e+04\n",
      "4250000,8500.000000814178,22.479076739514966,266.5426422525524,3.49e+04\n",
      "4500000,9000.000000916041,23.25007839911136,259.43315645154325,3.48e+04\n",
      "4750000,9500.000001017905,33.56712143438672,316.24009886750895,3.47e+04\n",
      "5000000,10000.000001119768,27.324752540613503,282.1497651518345,3.46e+04\n",
      "5250000,10500.000001221631,19.652764071935255,102.63758052831294,3.46e+04\n",
      "5500000,11000.000001323495,15.270210302067117,215.09205158675792,3.45e+04\n",
      "5750000,11500.000001425358,25.445413738120752,142.96303627547323,3.42e+04\n",
      "6000000,12000.000001527222,16.537232548420512,504.8205156112714,3.42e+04\n",
      "6250000,12500.000001629085,23.315726223116265,344.32210155291915,3.42e+04\n",
      "6500000,13000.000001730948,20.781128595052373,310.48219697776926,3.42e+04\n",
      "6750000,13500.000001832812,19.77547380616853,283.262197114897,3.42e+04\n",
      "7000000,14000.000001934675,18.63122430043694,255.77808619171088,3.42e+04\n",
      "7250000,14500.000002036539,29.937569577819346,285.81703004369496,3.41e+04\n",
      "7500000,15000.000002138402,30.290855442251377,194.793889537829,3.41e+04\n",
      "7750000,15500.000002240266,19.008911747966366,334.30967795079397,3.41e+04\n",
      "8000000,16000.000002342129,18.504672853541738,254.00331044933594,3.41e+04\n",
      "8250000,16500.00000244399,34.18029449552391,286.40285097031943,3.41e+04\n",
      "8500000,17000.000002545854,12.841456072317094,307.55911803258,3.41e+04\n",
      "8750000,17500.000002647717,21.74357923833715,213.98848545535137,3.4e+04\n",
      "9000000,18000.00000274958,23.137006312785132,253.66350394607912,3.4e+04\n",
      "9250000,18500.000002851444,10.253240571299166,448.8969191626742,3.41e+04\n",
      "9500000,19000.000002953308,17.971816656319113,212.7623559466726,3.41e+04\n",
      "9750000,19500.00000305517,25.9646505639504,246.8723414855557,3.41e+04\n",
      "10000000,20000.000003157034,22.52352685600237,181.36852569122584,3.42e+04\n",
      "Done!\n",
      "Time required for simulation: 50.584941148757935 seconds\n"
     ]
    }
   ],
   "source": [
    "import time as time\n",
    "\n",
    "print('Running Production...')\n",
    "\n",
    "# Begin timer\n",
    "tinit=time.time()\n",
    "\n",
    "# Clear simulation reporters\n",
    "simulation.reporters.clear()\n",
    "\n",
    "# Reinitialize simulation reporters. We do this because we want different information printed from the production run than the equilibration run.\n",
    "# output basic simulation information below every 250000 steps - (which is equal to 2 fs(250,000) = 500,000 fs = 500 ps)\n",
    "simulation.reporters.append(app.StateDataReporter(stdout, 250000, \n",
    "    step=True, time=True, potentialEnergy=True, temperature=True, \n",
    "    speed=True, separator=',')) # information printed every 250,000 timesteps.\n",
    "\n",
    "# write out a trajectory (i.e., coordinates vs. time) to a DCD\n",
    "# file every 100 steps - 0.2 ps\n",
    "simulation.reporters.append(app.DCDReporter('ethane_sim.dcd', 100))\n",
    "\n",
    "# run the simulation for 1.0x10^7 steps - 20 ns\n",
    "simulation.step(10000000)\n",
    "\n",
    "# End timer\n",
    "tfinal=time.time()\n",
    "print('Done!')\n",
    "print('Time required for simulation:', tfinal-tinit, 'seconds')"
   ]
  },
  {
   "cell_type": "markdown",
   "metadata": {},
   "source": [
    "# **Butane**"
   ]
  },
  {
   "cell_type": "markdown",
   "metadata": {},
   "source": [
    "## simulation set-up"
   ]
  },
  {
   "cell_type": "code",
   "execution_count": 11,
   "metadata": {},
   "outputs": [],
   "source": [
    "# read in a starting structure for butane and the\n",
    "# corresponding force field file\n",
    "pdb = app.PDBFile('butane.pdb')\n",
    "forcefield = app.ForceField('butane.gaff2.xml')\n",
    "\n",
    "# setup system by taking topology from pdb file;\n",
    "# run gas phase simulation with 2 fs time step (using SHAKE)\n",
    "# at 298.15 K using a Langevin thermostat (integrator) with\n",
    "# coupling constant of 5.0 ps^-1\n",
    "system = forcefield.createSystem(pdb.topology, nonbondedMethod=app.NoCutoff, \n",
    "                                 constraints=app.HBonds)\n",
    "integrator = mm.LangevinIntegrator(298.15*unit.kelvin, 5.0/unit.picoseconds, \n",
    "                                   2.0*unit.femtoseconds)\n",
    "integrator.setConstraintTolerance(1e-5)\n",
    "\n",
    "platform = mm.Platform.getPlatformByName('Reference')\n",
    "simulation = app.Simulation(pdb.topology, system, integrator, platform)\n",
    "simulation.context.setPositions(pdb.positions)"
   ]
  },
  {
   "cell_type": "markdown",
   "metadata": {},
   "source": [
    "## energy minimization"
   ]
  },
  {
   "cell_type": "code",
   "execution_count": 12,
   "metadata": {},
   "outputs": [
    {
     "name": "stdout",
     "output_type": "stream",
     "text": [
      "Minimizing...\n",
      "Potential energy before minimization is 5.797528654036221 kJ/mol\n",
      "Potential energy after minimization is 5.295784444937283 kJ/mol\n"
     ]
    }
   ],
   "source": [
    "print('Minimizing...')\n",
    "\n",
    "st = simulation.context.getState(getPositions=True,getEnergy=True)\n",
    "print(\"Potential energy before minimization is %s\" % st.getPotentialEnergy())\n",
    "\n",
    "simulation.minimizeEnergy(maxIterations=100)\n",
    "\n",
    "st = simulation.context.getState(getPositions=True,getEnergy=True)\n",
    "print(\"Potential energy after minimization is %s\" % st.getPotentialEnergy())"
   ]
  },
  {
   "cell_type": "markdown",
   "metadata": {},
   "source": [
    "## Equilibration"
   ]
  },
  {
   "cell_type": "code",
   "execution_count": 13,
   "metadata": {},
   "outputs": [
    {
     "name": "stdout",
     "output_type": "stream",
     "text": [
      "Equilibrating...\n",
      "#\"Step\",\"Potential Energy (kJ/mole)\",\"Temperature (K)\"\n",
      "250,35.99604092922348,268.28635583654466\n",
      "500,41.77168111311508,282.41934223596377\n",
      "750,60.79785758653101,200.20683775048806\n",
      "1000,45.915555952191625,277.0913781014827\n",
      "1250,24.520808415620113,451.6910933278124\n",
      "1500,42.944484891204695,274.06437530736486\n",
      "1750,26.789320165061337,378.9958174005008\n",
      "2000,57.19103285218729,200.93837579740733\n",
      "2250,41.9151874304215,206.78522676649558\n",
      "2500,43.413879933236956,468.1673729764372\n",
      "2750,41.54299179827227,326.8428316808851\n",
      "3000,46.683218387860116,297.71181008180497\n",
      "3250,41.484862504633384,300.8610673769424\n",
      "3500,44.82776231874595,342.0102681844877\n",
      "3750,34.16075930521111,409.521441675745\n",
      "4000,44.384840480785044,208.14490360366142\n",
      "4250,33.04273439050971,509.2949654202734\n",
      "4500,33.6906254933409,313.23570782857706\n",
      "4750,47.3860402079374,244.27420037902272\n",
      "5000,44.078865084972016,342.3989953539772\n"
     ]
    }
   ],
   "source": [
    "# double the number of steps in our equilibration since we want a time of 10 ps (5,000 * 2 fs = 10 picoseconds)\n",
    "\n",
    "print('Equilibrating...')\n",
    "\n",
    "simulation.reporters.append(app.StateDataReporter(stdout, 250, step=True, potentialEnergy=True, temperature=True, separator=','))\n",
    "simulation.context.setVelocitiesToTemperature(150.0*unit.kelvin)\n",
    "simulation.step(5000)"
   ]
  },
  {
   "cell_type": "markdown",
   "metadata": {},
   "source": [
    "## production"
   ]
  },
  {
   "cell_type": "code",
   "execution_count": 14,
   "metadata": {},
   "outputs": [
    {
     "name": "stdout",
     "output_type": "stream",
     "text": [
      "Running Production...\n",
      "#\"Step\",\"Time (ps)\",\"Potential Energy (kJ/mole)\",\"Temperature (K)\",\"Speed (ns/day)\"\n",
      "500000,999.9999999901769,24.2092070773162,164.89503390642213,0\n",
      "1000000,1999.9999999665301,63.70141681368241,247.5574024249635,1.8e+04\n",
      "1500000,2999.9999999428833,29.456013159180113,279.908030432761,1.81e+04\n",
      "2000000,3999.9999999192364,43.234280473310484,252.26402275042253,1.81e+04\n",
      "2500000,5000.000000101135,43.51162524360001,261.9516621732731,1.82e+04\n",
      "3000000,6000.000000304862,61.06122201524479,153.95164232098807,1.79e+04\n",
      "3500000,7000.0000005085885,60.438779272712424,335.6117509408632,1.79e+04\n",
      "4000000,8000.000000712315,52.59281907655787,431.1492254424699,1.76e+04\n",
      "4500000,9000.000000916041,31.942236676089077,429.64469062609754,1.75e+04\n",
      "5000000,10000.000001119768,43.78518497052342,308.550755640733,1.74e+04\n",
      "5500000,11000.000001323495,39.56108884236179,225.25474330831904,1.74e+04\n",
      "6000000,12000.000001527222,29.802839672275823,252.2180621541652,1.73e+04\n",
      "6500000,13000.000001730948,39.69698122962408,233.51133150659902,1.73e+04\n",
      "7000000,14000.000001934675,40.29086991447995,334.28987337502326,1.73e+04\n",
      "7500000,15000.000002138402,36.069151174190885,213.30805152116815,1.72e+04\n",
      "8000000,16000.000002342129,46.80837793774547,281.7127908730543,1.71e+04\n",
      "8500000,17000.000002545854,50.74412981553086,321.9417199593489,1.7e+04\n",
      "9000000,18000.00000274958,39.86982710062743,389.94554117725534,1.7e+04\n",
      "9500000,19000.000002953308,20.898847818379593,165.38066877775088,1.7e+04\n",
      "10000000,20000.000003157034,30.335116642165282,216.83195378357746,1.7e+04\n",
      "10500000,21000.00000336076,35.04538346482395,310.42437863755987,1.7e+04\n",
      "11000000,22000.000003564488,36.82763211882243,234.4799352645399,1.7e+04\n",
      "11500000,23000.000003768215,46.982631709093866,302.47770612272416,1.69e+04\n",
      "12000000,24000.00000397194,45.08471527451132,301.4780737339781,1.69e+04\n",
      "12500000,25000.00000417567,41.13533990913084,340.02765507887034,1.69e+04\n",
      "13000000,26000.000004379395,36.52539281352783,406.49475647321026,1.69e+04\n",
      "13500000,27000.000004583122,27.240175326907597,421.86523734854495,1.69e+04\n",
      "14000000,28000.00000478685,29.080348480768997,335.69998753775207,1.69e+04\n",
      "14500000,29000.000004990576,46.12292326963336,361.2993044730165,1.69e+04\n",
      "15000000,30000.000005194303,41.52873151703692,264.04018539540834,1.69e+04\n",
      "15500000,31000.00000539803,52.69826941880608,192.1956907874754,1.69e+04\n",
      "16000000,32000.000005601756,63.341459044233574,224.9320095987121,1.69e+04\n",
      "16500000,33000.00000580548,40.7166804551126,266.53588162574897,1.69e+04\n",
      "17000000,34000.000006009206,23.84659793019388,310.0935501813586,1.69e+04\n",
      "17500000,35000.00000621293,50.155402982381915,263.408896443486,1.69e+04\n",
      "18000000,36000.00000641666,47.46564191304037,360.3932983622787,1.69e+04\n",
      "18500000,37000.00000662039,40.41413392696996,237.46351372460038,1.68e+04\n",
      "19000000,38000.00000682411,48.93752502006203,308.929670091579,1.68e+04\n",
      "19500000,39000.00000702784,42.27546966711617,215.29045019348794,1.68e+04\n",
      "20000000,40000.00000723157,51.98387592049215,306.94669833471437,1.67e+04\n",
      "Done!\n",
      "Time required for simulation: 206.44628500938416 seconds\n"
     ]
    }
   ],
   "source": [
    "print('Running Production...')\n",
    "\n",
    "tinit=time.time()\n",
    "simulation.reporters.clear()\n",
    "# output basic simulation information below every 500000 steps/1 ns\n",
    "simulation.reporters.append(app.StateDataReporter(stdout, 500000, \n",
    "    step=True, time=True, potentialEnergy=True, temperature=True, \n",
    "    speed=True, separator=','))\n",
    "# write out a trajectory (i.e., coordinates vs. time) to a DCD\n",
    "# file every 100 steps/0.2 ps\n",
    "simulation.reporters.append(app.DCDReporter('butane_sim.dcd', 100))\n",
    "\n",
    "# run the simulation for 2.0x10^7 steps/40 ns\n",
    "simulation.step(20000000)\n",
    "tfinal=time.time()\n",
    "print('Done!')\n",
    "print('Time required for simulation:', tfinal-tinit, 'seconds')"
   ]
  },
  {
   "cell_type": "markdown",
   "metadata": {},
   "source": [
    "# Analysis"
   ]
  },
  {
   "cell_type": "code",
   "execution_count": 15,
   "metadata": {},
   "outputs": [],
   "source": [
    "# libraries\n",
    "# nglview to visualize the trajectory\n",
    "# MDTraj to analyze the trajectory.\n",
    "\n",
    "\n",
    "# reads all of the atomic positions from ethane_sim.dcd \n",
    "# and keeps track of atom connectivity (topology) which was given in the PDB file.\n",
    "\n",
    "import mdtraj as md\n",
    "\n",
    "traj = md.load('ethane_sim.dcd', top='ethane.pdb') "
   ]
  },
  {
   "cell_type": "code",
   "execution_count": 16,
   "metadata": {},
   "outputs": [
    {
     "data": {
      "application/vnd.jupyter.widget-view+json": {
       "model_id": "9152210ac1f44323ba84429d96317ba4",
       "version_major": 2,
       "version_minor": 0
      },
      "text/plain": [
       "_ColormakerRegistry()"
      ]
     },
     "metadata": {},
     "output_type": "display_data"
    },
    {
     "data": {
      "application/vnd.jupyter.widget-view+json": {
       "model_id": "39c354fe53ef49e6a29cbef8250e2592",
       "version_major": 2,
       "version_minor": 0
      },
      "text/plain": [
       "NGLWidget(max_frame=99999)"
      ]
     },
     "metadata": {},
     "output_type": "display_data"
    }
   ],
   "source": [
    "# visualize the trajectory using nglview. \n",
    "# Nglview has a special function show_mdtraj that we can use with our trajectory because it was in a specific format from the MDTraj library.\n",
    "\n",
    "import nglview as ngl\n",
    "\n",
    "visualize = ngl.show_mdtraj(traj)\n",
    "visualize"
   ]
  },
  {
   "cell_type": "code",
   "execution_count": 17,
   "metadata": {},
   "outputs": [
    {
     "data": {
      "text/html": [
       "<div>\n",
       "<style scoped>\n",
       "    .dataframe tbody tr th:only-of-type {\n",
       "        vertical-align: middle;\n",
       "    }\n",
       "\n",
       "    .dataframe tbody tr th {\n",
       "        vertical-align: top;\n",
       "    }\n",
       "\n",
       "    .dataframe thead th {\n",
       "        text-align: right;\n",
       "    }\n",
       "</style>\n",
       "<table border=\"1\" class=\"dataframe\">\n",
       "  <thead>\n",
       "    <tr style=\"text-align: right;\">\n",
       "      <th></th>\n",
       "      <th>serial</th>\n",
       "      <th>name</th>\n",
       "      <th>element</th>\n",
       "      <th>resSeq</th>\n",
       "      <th>resName</th>\n",
       "      <th>chainID</th>\n",
       "      <th>segmentID</th>\n",
       "    </tr>\n",
       "  </thead>\n",
       "  <tbody>\n",
       "    <tr>\n",
       "      <th>0</th>\n",
       "      <td>1</td>\n",
       "      <td>C1</td>\n",
       "      <td>C</td>\n",
       "      <td>1</td>\n",
       "      <td>ETH</td>\n",
       "      <td>0</td>\n",
       "      <td></td>\n",
       "    </tr>\n",
       "    <tr>\n",
       "      <th>1</th>\n",
       "      <td>2</td>\n",
       "      <td>H11</td>\n",
       "      <td>H</td>\n",
       "      <td>1</td>\n",
       "      <td>ETH</td>\n",
       "      <td>0</td>\n",
       "      <td></td>\n",
       "    </tr>\n",
       "    <tr>\n",
       "      <th>2</th>\n",
       "      <td>3</td>\n",
       "      <td>H12</td>\n",
       "      <td>H</td>\n",
       "      <td>1</td>\n",
       "      <td>ETH</td>\n",
       "      <td>0</td>\n",
       "      <td></td>\n",
       "    </tr>\n",
       "    <tr>\n",
       "      <th>3</th>\n",
       "      <td>4</td>\n",
       "      <td>H13</td>\n",
       "      <td>H</td>\n",
       "      <td>1</td>\n",
       "      <td>ETH</td>\n",
       "      <td>0</td>\n",
       "      <td></td>\n",
       "    </tr>\n",
       "    <tr>\n",
       "      <th>4</th>\n",
       "      <td>5</td>\n",
       "      <td>C2</td>\n",
       "      <td>C</td>\n",
       "      <td>1</td>\n",
       "      <td>ETH</td>\n",
       "      <td>0</td>\n",
       "      <td></td>\n",
       "    </tr>\n",
       "    <tr>\n",
       "      <th>5</th>\n",
       "      <td>6</td>\n",
       "      <td>H21</td>\n",
       "      <td>H</td>\n",
       "      <td>1</td>\n",
       "      <td>ETH</td>\n",
       "      <td>0</td>\n",
       "      <td></td>\n",
       "    </tr>\n",
       "    <tr>\n",
       "      <th>6</th>\n",
       "      <td>7</td>\n",
       "      <td>H22</td>\n",
       "      <td>H</td>\n",
       "      <td>1</td>\n",
       "      <td>ETH</td>\n",
       "      <td>0</td>\n",
       "      <td></td>\n",
       "    </tr>\n",
       "    <tr>\n",
       "      <th>7</th>\n",
       "      <td>8</td>\n",
       "      <td>H23</td>\n",
       "      <td>H</td>\n",
       "      <td>1</td>\n",
       "      <td>ETH</td>\n",
       "      <td>0</td>\n",
       "      <td></td>\n",
       "    </tr>\n",
       "  </tbody>\n",
       "</table>\n",
       "</div>"
      ],
      "text/plain": [
       "   serial name element  resSeq resName  chainID segmentID\n",
       "0       1   C1       C       1     ETH        0          \n",
       "1       2  H11       H       1     ETH        0          \n",
       "2       3  H12       H       1     ETH        0          \n",
       "3       4  H13       H       1     ETH        0          \n",
       "4       5   C2       C       1     ETH        0          \n",
       "5       6  H21       H       1     ETH        0          \n",
       "6       7  H22       H       1     ETH        0          \n",
       "7       8  H23       H       1     ETH        0          "
      ]
     },
     "execution_count": 17,
     "metadata": {},
     "output_type": "execute_result"
    }
   ],
   "source": [
    "# pull our bonds and atoms for analysis\n",
    "\n",
    "atoms, bonds = traj.topology.to_dataframe()\n",
    "atoms"
   ]
  },
  {
   "cell_type": "code",
   "execution_count": 18,
   "metadata": {},
   "outputs": [],
   "source": [
    "bond_indices = [0, 4] # atoms to define the bond length\n",
    "bond_length = md.compute_distances(traj, [bond_indices])"
   ]
  },
  {
   "cell_type": "code",
   "execution_count": 19,
   "metadata": {},
   "outputs": [
    {
     "data": {
      "image/png": "[encoded data removed]",
      "text/plain": [
       "<Figure size 432x288 with 1 Axes>"
      ]
     },
     "metadata": {
      "needs_background": "light"
     },
     "output_type": "display_data"
    }
   ],
   "source": [
    "import matplotlib.pyplot as plt\n",
    "\n",
    "bondcounts, binedges, otherstuff = plt.hist(bond_length, bins=120)\n",
    "plt.title('C-C bond length histogram')\n",
    "plt.xlabel('Bond length (nm)')\n",
    "plt.ylabel('Counts')\n",
    "plt.show()"
   ]
  },
  {
   "cell_type": "markdown",
   "metadata": {},
   "source": [
    "### Analyzing the H-C-C-H torsion"
   ]
  },
  {
   "cell_type": "code",
   "execution_count": 20,
   "metadata": {},
   "outputs": [
    {
     "name": "stdout",
     "output_type": "stream",
     "text": [
      "[[ 1.1072513 ]\n",
      " [ 0.76863074]\n",
      " [ 1.1068107 ]\n",
      " ...\n",
      " [-0.91509426]\n",
      " [-1.0038378 ]\n",
      " [-1.2852497 ]]\n"
     ]
    }
   ],
   "source": [
    "# A torsion is made up of four atoms which are bonded to each other.\n",
    "# Analyze the torsion angle associated with the atoms H11-C1-C2-H21 for your trajectory. \n",
    "# Instead of using the function compute_distance, use compute_dihedrals. \n",
    "# Create a histogram plot of the torsion angles. \n",
    "\n",
    "# pick the atom indices of our torsion angle and use the compute_dihedrals function to calculate the dihedrals.\n",
    "phi_indices = [1, 0, 4, 5] # atoms to define the torsion angle\n",
    "phi = md.compute_dihedrals(traj, [phi_indices])\n",
    "\n",
    "print(phi)"
   ]
  },
  {
   "cell_type": "code",
   "execution_count": 21,
   "metadata": {},
   "outputs": [
    {
     "data": {
      "image/png": "[encoded data removed]",
      "text/plain": [
       "<Figure size 432x288 with 1 Axes>"
      ]
     },
     "metadata": {
      "needs_background": "light"
     },
     "output_type": "display_data"
    }
   ],
   "source": [
    "import matplotlib.pyplot as plt\n",
    "\n",
    "phicounts, binedges, otherstuff = plt.hist(phi, bins=90) # create a histogram with 90 bins\n",
    "plt.title('H-C-C-H torsion angle')\n",
    "plt.xlabel(r'$\\phi$ (rad)')\n",
    "plt.ylabel('Counts')\n",
    "plt.show()"
   ]
  },
  {
   "cell_type": "markdown",
   "metadata": {},
   "source": [
    "## potential of mean force calculation"
   ]
  },
  {
   "cell_type": "markdown",
   "metadata": {},
   "source": [
    "#### mean force calculation\n",
    "$$ W(x) = -k_bT*ln[p(x)]+C $$"
   ]
  },
  {
   "cell_type": "code",
   "execution_count": 27,
   "metadata": {},
   "outputs": [
    {
     "data": {
      "image/png": "[encoded data removed]",
      "text/plain": [
       "<Figure size 432x288 with 1 Axes>"
      ]
     },
     "metadata": {
      "needs_background": "light"
     },
     "output_type": "display_data"
    }
   ],
   "source": [
    "kB = 8.31446/1000 # Boltzmann constant in kJ/mol\n",
    "Temp = 298.15 # simulation temperature\n",
    "phicounts[phicounts==0] = 0.1 # get rid of any bins with 0 counts/infinite energy\n",
    "pmf = -kB*Temp*np.log(phicounts) # W(x) = -kT*ln[p(x)] = -kT*ln[n(x)] + C\n",
    "pmf = pmf - np.min(pmf) # subtract off minimum value so that energies start from 0\n",
    "\n",
    "bincenters = (binedges[1:] + binedges[:-1])/2 # compute centers of histogram bins\n",
    "\n",
    "plt.plot(bincenters, pmf)\n",
    "plt.title('H-C-C-H torsion pmf')\n",
    "plt.xlabel(r'$\\phi$ (rad)')\n",
    "plt.ylabel('Relative free energy (kJ/mol)')\n",
    "plt.show()"
   ]
  },
  {
   "cell_type": "markdown",
   "metadata": {},
   "source": [
    "When we examine the plot, we can see that the PMF is not smooth near the free energy maxima. This is due to finite sampling in our relatively short simulation. This makes sense because the configurations of the molecule with the higher energy would not occur as many times during the simulation. To make this smoother, we could run a longer simulation or use a smoothing function on our data."
   ]
  },
  {
   "cell_type": "code",
   "execution_count": 33,
   "metadata": {},
   "outputs": [
    {
     "ename": "ValueError",
     "evalue": "exog and endog must have same length",
     "output_type": "error",
     "traceback": [
      "\u001b[0;31m---------------------------------------------------------------------------\u001b[0m",
      "\u001b[0;31mValueError\u001b[0m                                Traceback (most recent call last)",
      "\u001b[0;32m<ipython-input-33-f601ae2a4aa8>\u001b[0m in \u001b[0;36m<module>\u001b[0;34m\u001b[0m\n\u001b[1;32m      6\u001b[0m \u001b[0mbincenters\u001b[0m \u001b[0;34m=\u001b[0m \u001b[0;34m(\u001b[0m\u001b[0mbinedges\u001b[0m\u001b[0;34m[\u001b[0m\u001b[0;36m1\u001b[0m\u001b[0;34m:\u001b[0m\u001b[0;34m]\u001b[0m \u001b[0;34m+\u001b[0m \u001b[0mbinedges\u001b[0m\u001b[0;34m[\u001b[0m\u001b[0;34m:\u001b[0m\u001b[0;34m-\u001b[0m\u001b[0;36m1\u001b[0m\u001b[0;34m]\u001b[0m\u001b[0;34m)\u001b[0m\u001b[0;34m/\u001b[0m\u001b[0;36m2\u001b[0m\u001b[0;34m\u001b[0m\u001b[0;34m\u001b[0m\u001b[0m\n\u001b[1;32m      7\u001b[0m \u001b[0;34m\u001b[0m\u001b[0m\n\u001b[0;32m----> 8\u001b[0;31m \u001b[0mpmf_smoothed\u001b[0m \u001b[0;34m=\u001b[0m \u001b[0msm\u001b[0m\u001b[0;34m.\u001b[0m\u001b[0mnonparametric\u001b[0m\u001b[0;34m.\u001b[0m\u001b[0mlowess\u001b[0m\u001b[0;34m(\u001b[0m\u001b[0mpmf\u001b[0m\u001b[0;34m,\u001b[0m \u001b[0mbincenters\u001b[0m\u001b[0;34m,\u001b[0m \u001b[0mfrac\u001b[0m\u001b[0;34m=\u001b[0m\u001b[0;36m0.05\u001b[0m\u001b[0;34m)\u001b[0m\u001b[0;34m\u001b[0m\u001b[0;34m\u001b[0m\u001b[0m\n\u001b[0m\u001b[1;32m      9\u001b[0m \u001b[0mpmf_s\u001b[0m \u001b[0;34m=\u001b[0m \u001b[0mpmf_smoothed\u001b[0m\u001b[0;34m[\u001b[0m\u001b[0;34m:\u001b[0m\u001b[0;34m,\u001b[0m\u001b[0;36m1\u001b[0m\u001b[0;34m]\u001b[0m \u001b[0;34m-\u001b[0m \u001b[0mnp\u001b[0m\u001b[0;34m.\u001b[0m\u001b[0mmin\u001b[0m\u001b[0;34m(\u001b[0m\u001b[0mpmf_smoothed\u001b[0m\u001b[0;34m[\u001b[0m\u001b[0;34m:\u001b[0m\u001b[0;34m,\u001b[0m\u001b[0;36m1\u001b[0m\u001b[0;34m]\u001b[0m\u001b[0;34m)\u001b[0m\u001b[0;34m\u001b[0m\u001b[0;34m\u001b[0m\u001b[0m\n\u001b[1;32m     10\u001b[0m \u001b[0;34m\u001b[0m\u001b[0m\n",
      "\u001b[0;32m/opt/anaconda3/lib/python3.7/site-packages/statsmodels/nonparametric/smoothers_lowess.py\u001b[0m in \u001b[0;36mlowess\u001b[0;34m(endog, exog, frac, it, delta, is_sorted, missing, return_sorted)\u001b[0m\n\u001b[1;32m    135\u001b[0m         \u001b[0;32mraise\u001b[0m \u001b[0mValueError\u001b[0m\u001b[0;34m(\u001b[0m\u001b[0;34m'endog must be a vector'\u001b[0m\u001b[0;34m)\u001b[0m\u001b[0;34m\u001b[0m\u001b[0;34m\u001b[0m\u001b[0m\n\u001b[1;32m    136\u001b[0m     \u001b[0;32mif\u001b[0m \u001b[0mendog\u001b[0m\u001b[0;34m.\u001b[0m\u001b[0mshape\u001b[0m\u001b[0;34m[\u001b[0m\u001b[0;36m0\u001b[0m\u001b[0;34m]\u001b[0m \u001b[0;34m!=\u001b[0m \u001b[0mexog\u001b[0m\u001b[0;34m.\u001b[0m\u001b[0mshape\u001b[0m\u001b[0;34m[\u001b[0m\u001b[0;36m0\u001b[0m\u001b[0;34m]\u001b[0m \u001b[0;34m:\u001b[0m\u001b[0;34m\u001b[0m\u001b[0;34m\u001b[0m\u001b[0m\n\u001b[0;32m--> 137\u001b[0;31m         \u001b[0;32mraise\u001b[0m \u001b[0mValueError\u001b[0m\u001b[0;34m(\u001b[0m\u001b[0;34m'exog and endog must have same length'\u001b[0m\u001b[0;34m)\u001b[0m\u001b[0;34m\u001b[0m\u001b[0;34m\u001b[0m\u001b[0m\n\u001b[0m\u001b[1;32m    138\u001b[0m \u001b[0;34m\u001b[0m\u001b[0m\n\u001b[1;32m    139\u001b[0m     \u001b[0;32mif\u001b[0m \u001b[0mmissing\u001b[0m \u001b[0;32min\u001b[0m \u001b[0;34m[\u001b[0m\u001b[0;34m'drop'\u001b[0m\u001b[0;34m,\u001b[0m \u001b[0;34m'raise'\u001b[0m\u001b[0;34m]\u001b[0m\u001b[0;34m:\u001b[0m\u001b[0;34m\u001b[0m\u001b[0;34m\u001b[0m\u001b[0m\n",
      "\u001b[0;31mValueError\u001b[0m: exog and endog must have same length"
     ]
    }
   ],
   "source": [
    "# C-C PMF\n",
    "bondcounts[bondcounts==0] = 0.1\n",
    "pmf = -kB*Temp*np.log(bondcounts)\n",
    "pmf = pmf - np.min(pmf)\n",
    "\n",
    "bincenters = (binedges[1:] + binedges[:-1])/2\n",
    "\n",
    "pmf_smoothed = sm.nonparametric.lowess(pmf, bincenters, frac=0.05)\n",
    "pmf_s = pmf_smoothed[:,1] - np.min(pmf_smoothed[:,1])\n",
    "\n",
    "plt.plot(bincenters, pmf_s)\n",
    "plt.xlabel('Bond length (nm)')\n",
    "plt.ylabel('Relative free energy (kJ/mol)')\n",
    "plt.title('C-C bond length pmf')\n",
    "plt.show()"
   ]
  },
  {
   "cell_type": "code",
   "execution_count": null,
   "metadata": {},
   "outputs": [],
   "source": []
  }
 ],
 "metadata": {
  "kernelspec": {
   "display_name": "Python 3",
   "language": "python",
   "name": "python3"
  },
  "language_info": {
   "codemirror_mode": {
    "name": "ipython",
    "version": 3
   },
   "file_extension": ".py",
   "mimetype": "text/x-python",
   "name": "python",
   "nbconvert_exporter": "python",
   "pygments_lexer": "ipython3",
   "version": "3.7.6"
  }
 },
 "nbformat": 4,
 "nbformat_minor": 4
}
